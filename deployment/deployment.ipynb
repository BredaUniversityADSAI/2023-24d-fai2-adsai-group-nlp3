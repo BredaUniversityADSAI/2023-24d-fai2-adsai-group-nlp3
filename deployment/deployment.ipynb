{
 "cells": [
  {
   "cell_type": "code",
   "execution_count": 1,
   "metadata": {},
   "outputs": [],
   "source": [
    "from azure.ai.ml import Input, MLClient, Output, command\n",
    "from azure.identity import ClientSecretCredential\n",
    "\n",
    "# const values for Azure connection\n",
    "SUBSCRIPTION_ID = \"0a94de80-6d3b-49f2-b3e9-ec5818862801\"\n",
    "RESOURCE_GROUP = \"buas-y2\"\n",
    "WORKSPACE_NAME = \"NLP3\"\n",
    "TENANT_ID = \"0a33589b-0036-4fe8-a829-3ed0926af886\"\n",
    "CLIENT_ID = \"a2230f31-0fda-428d-8c5c-ec79e91a49f5\"\n",
    "CLIENT_SECRET = \"Y-q8Q~H63btsUkR7dnmHrUGw2W0gMWjs0MxLKa1C\"\n",
    "\n",
    "\n",
    "credential = ClientSecretCredential(TENANT_ID, CLIENT_ID, CLIENT_SECRET)\n",
    "\n",
    "ml_client = MLClient(\n",
    "    subscription_id=SUBSCRIPTION_ID,\n",
    "    resource_group_name=RESOURCE_GROUP,\n",
    "    workspace_name=WORKSPACE_NAME,\n",
    "    credential=credential,\n",
    ")\n",
    "\n",
    "\n",
    "compute = \"adsai1\""
   ]
  },
  {
   "cell_type": "code",
   "execution_count": 2,
   "metadata": {},
   "outputs": [],
   "source": [
    "from azure.ai.ml.entities import KubernetesOnlineEndpoint, KubernetesCompute, KubernetesOnlineDeployment\n",
    "import datetime\n",
    "\n",
    "endpoint_name = \"test-endpoint-\" + datetime.datetime.now().strftime(\"%m%d%H%M%f\")\n",
    "\n",
    "# create an online endpoint with a kubernetes\n",
    "\n",
    "endpoint = KubernetesOnlineEndpoint(name=endpoint_name, description=\"test-endpoint\", compute=compute, auth_mode=\"key\", tags={\"Type\": \"First test endpoint\"})\n"
   ]
  },
  {
   "cell_type": "code",
   "execution_count": 3,
   "metadata": {},
   "outputs": [
    {
     "name": "stdout",
     "output_type": "stream",
     "text": [
      "Creating endpoint test-endpoint-06241307490589\n"
     ]
    }
   ],
   "source": [
    "print(f\"Creating endpoint {endpoint_name}\")"
   ]
  },
  {
   "cell_type": "code",
   "execution_count": 54,
   "metadata": {},
   "outputs": [
    {
     "name": "stdout",
     "output_type": "stream",
     "text": [
      "Requirement already satisfied: docker in c:\\users\\dudo\\anaconda3\\envs\\blockd-env\\lib\\site-packages (7.1.0)\n",
      "Requirement already satisfied: pywin32>=304 in c:\\users\\dudo\\anaconda3\\envs\\blockd-env\\lib\\site-packages (from docker) (305.1)\n",
      "Requirement already satisfied: requests>=2.26.0 in c:\\users\\dudo\\anaconda3\\envs\\blockd-env\\lib\\site-packages (from docker) (2.32.2)\n",
      "Requirement already satisfied: urllib3>=1.26.0 in c:\\users\\dudo\\anaconda3\\envs\\blockd-env\\lib\\site-packages (from docker) (2.2.1)\n",
      "Requirement already satisfied: charset-normalizer<4,>=2 in c:\\users\\dudo\\anaconda3\\envs\\blockd-env\\lib\\site-packages (from requests>=2.26.0->docker) (2.0.4)\n",
      "Requirement already satisfied: idna<4,>=2.5 in c:\\users\\dudo\\anaconda3\\envs\\blockd-env\\lib\\site-packages (from requests>=2.26.0->docker) (3.7)\n",
      "Requirement already satisfied: certifi>=2017.4.17 in c:\\users\\dudo\\anaconda3\\envs\\blockd-env\\lib\\site-packages (from requests>=2.26.0->docker) (2024.2.2)\n"
     ]
    }
   ],
   "source": [
    "import sys\n",
    "import os\n",
    "# Install the Docker\n",
    "!{sys.executable} -m pip install docker\n"
   ]
  },
  {
   "cell_type": "code",
   "execution_count": 4,
   "metadata": {},
   "outputs": [
    {
     "data": {
      "text/plain": [
       "KubernetesOnlineEndpoint({'provisioning_state': 'Succeeded', 'scoring_uri': 'http://194.171.191.227:30397/api/v1/endpoint/test-endpoint-06241307490589/score', 'openapi_uri': 'http://194.171.191.227:30397/api/v1/endpoint/test-endpoint-06241307490589/swagger.json', 'name': 'test-endpoint-06241307490589', 'description': 'test-endpoint', 'tags': {'Type': 'First test endpoint'}, 'properties': {'createdBy': 'a2230f31-0fda-428d-8c5c-ec79e91a49f5', 'createdAt': '2024-06-24T11:07:51.238873+0000', 'lastModifiedAt': '2024-06-24T11:07:51.238873+0000', 'azureml.onlineendpointid': '/subscriptions/0a94de80-6d3b-49f2-b3e9-ec5818862801/resourcegroups/buas-y2/providers/microsoft.machinelearningservices/workspaces/nlp3/onlineendpoints/test-endpoint-06241307490589', 'AzureAsyncOperationUri': 'https://management.azure.com/subscriptions/0a94de80-6d3b-49f2-b3e9-ec5818862801/providers/Microsoft.MachineLearningServices/locations/westeurope/mfeOperationsStatus/oeidp:12fa2fcc-0a79-4635-bc8c-8148b17bfac6:fb299b9a-7b9b-4a24-ace8-6dad646348b0?api-version=2022-02-01-preview'}, 'print_as_yaml': False, 'id': '/subscriptions/0a94de80-6d3b-49f2-b3e9-ec5818862801/resourceGroups/buas-y2/providers/Microsoft.MachineLearningServices/workspaces/NLP3/onlineEndpoints/test-endpoint-06241307490589', 'Resource__source_path': '', 'base_path': 'd:\\\\BUAS\\\\Year 2\\\\Block 2D\\\\Block-D-Personal\\\\Programming\\\\Azure\\\\Endpoint_BUAS', 'creation_context': None, 'serialize': <msrest.serialization.Serializer object at 0x000001E65946AC50>, 'auth_mode': 'key', 'location': 'westeurope', 'identity': <azure.ai.ml.entities._credentials.IdentityConfiguration object at 0x000001E65916B850>, 'traffic': {}, 'mirror_traffic': {}, 'kind': 'K8S', 'compute': '/subscriptions/0a94de80-6d3b-49f2-b3e9-ec5818862801/resourceGroups/buas-y2/providers/Microsoft.MachineLearningServices/workspaces/NLP3/computes/adsai1'})"
      ]
     },
     "execution_count": 4,
     "metadata": {},
     "output_type": "execute_result"
    }
   ],
   "source": [
    "#Create an endpoint\n",
    "ml_client.online_endpoints.begin_create_or_update(endpoint).result()\n"
   ]
  },
  {
   "cell_type": "code",
   "execution_count": 5,
   "metadata": {},
   "outputs": [
    {
     "name": "stdout",
     "output_type": "stream",
     "text": [
      "d:\\BUAS\\Year 2\\Block 2D\\Block-D-Personal\\Programming\\Azure\\Endpoint_BUAS\n",
      "['pipeline.ipynb', 'scoring.py']\n"
     ]
    }
   ],
   "source": [
    "from azure.ai.ml.entities import Environment, CodeConfiguration, ResourceRequirementsSettings, ResourceSettings\n",
    "import os\n",
    "\n",
    "registered_model_name = \"RoBERTa_model\"\n",
    "latest_model_version = \"2\"\n",
    "registered_environment_name = \"BlockD\"\n",
    "latest_environment_version = \"9\"\n",
    "\n",
    "model = ml_client.models.get(name=registered_model_name, version=latest_model_version)\n",
    "env = ml_client.environments.get(name=registered_environment_name, version=latest_environment_version)\n",
    "\n",
    "\n",
    "print(os.getcwd())\n",
    "print(os.listdir(\"D:\\BUAS\\Year 2\\Block 2D\\Block D\\BlockC\\Juraj\"))\n",
    "\n",
    "blue_deployment = KubernetesOnlineDeployment(\n",
    "    name=\"blue-deployment-test\",\n",
    "    endpoint_name=endpoint_name,\n",
    "    model = model,\n",
    "    environment = env,\n",
    "    code_configuration=CodeConfiguration(code=\"D:\\BUAS\\Year 2\\Block 2D\\Block D\\BlockC\\Juraj\",scoring_script=\"scoring.py\"),\n",
    "    instance_count = 1,\n",
    "    resources=ResourceRequirementsSettings(\n",
    "        requests=ResourceSettings(\n",
    "            cpu=\"6000m\",\n",
    "            memory=\"20Gi\"\n",
    "        ),\n",
    "    ),\n",
    ")\n"
   ]
  },
  {
   "cell_type": "code",
   "execution_count": 6,
   "metadata": {},
   "outputs": [
    {
     "name": "stderr",
     "output_type": "stream",
     "text": [
      "Check: endpoint test-endpoint-06241307490589 exists\n",
      "\u001b[32mUploading Juraj (0.12 MBs): 100%|##########| 115992/115992 [00:00<00:00, 1296214.80it/s]\n",
      "\u001b[39m\n",
      "\n"
     ]
    },
    {
     "name": "stdout",
     "output_type": "stream",
     "text": [
      "......................................................................................................................................."
     ]
    },
    {
     "ename": "HttpResponseError",
     "evalue": "(None) KubernetesOperationError: Operation failed in Kubernetes cluster. Reason:UserScriptImportError Details:Errors Occurred in User Script when importing modules, please check the deployment logs for more details. Please see troubleshooting guide, available here: https://aka.ms/amlarc-tsg\nCode: None\nMessage: KubernetesOperationError: Operation failed in Kubernetes cluster. Reason:UserScriptImportError Details:Errors Occurred in User Script when importing modules, please check the deployment logs for more details. Please see troubleshooting guide, available here: https://aka.ms/amlarc-tsg\nException Details:\t(None) KubernetesOperationError: Operation failed in Kubernetes cluster. Reason:UserScriptImportError Details:Errors Occurred in User Script when importing modules, please check the deployment logs for more details. Please see troubleshooting guide, available here: https://aka.ms/amlarc-tsg\n\tCode: None\n\tMessage: KubernetesOperationError: Operation failed in Kubernetes cluster. Reason:UserScriptImportError Details:Errors Occurred in User Script when importing modules, please check the deployment logs for more details. Please see troubleshooting guide, available here: https://aka.ms/amlarc-tsg",
     "output_type": "error",
     "traceback": [
      "\u001b[1;31m---------------------------------------------------------------------------\u001b[0m",
      "\u001b[1;31mOperationFailed\u001b[0m                           Traceback (most recent call last)",
      "File \u001b[1;32mc:\\Users\\Dudo\\anaconda3\\envs\\blockd-env\\Lib\\site-packages\\azure\\core\\polling\\base_polling.py:757\u001b[0m, in \u001b[0;36mLROBasePolling.run\u001b[1;34m(self)\u001b[0m\n\u001b[0;32m    756\u001b[0m \u001b[38;5;28;01mtry\u001b[39;00m:\n\u001b[1;32m--> 757\u001b[0m     \u001b[38;5;28;43mself\u001b[39;49m\u001b[38;5;241;43m.\u001b[39;49m\u001b[43m_poll\u001b[49m\u001b[43m(\u001b[49m\u001b[43m)\u001b[49m\n\u001b[0;32m    759\u001b[0m \u001b[38;5;28;01mexcept\u001b[39;00m BadStatus \u001b[38;5;28;01mas\u001b[39;00m err:\n",
      "File \u001b[1;32mc:\\Users\\Dudo\\anaconda3\\envs\\blockd-env\\Lib\\site-packages\\azure\\core\\polling\\base_polling.py:789\u001b[0m, in \u001b[0;36mLROBasePolling._poll\u001b[1;34m(self)\u001b[0m\n\u001b[0;32m    788\u001b[0m \u001b[38;5;28;01mif\u001b[39;00m _failed(\u001b[38;5;28mself\u001b[39m\u001b[38;5;241m.\u001b[39mstatus()):\n\u001b[1;32m--> 789\u001b[0m     \u001b[38;5;28;01mraise\u001b[39;00m OperationFailed(\u001b[38;5;124m\"\u001b[39m\u001b[38;5;124mOperation failed or canceled\u001b[39m\u001b[38;5;124m\"\u001b[39m)\n\u001b[0;32m    791\u001b[0m final_get_url \u001b[38;5;241m=\u001b[39m \u001b[38;5;28mself\u001b[39m\u001b[38;5;241m.\u001b[39m_operation\u001b[38;5;241m.\u001b[39mget_final_get_url(\u001b[38;5;28mself\u001b[39m\u001b[38;5;241m.\u001b[39m_pipeline_response)\n",
      "\u001b[1;31mOperationFailed\u001b[0m: Operation failed or canceled",
      "\nThe above exception was the direct cause of the following exception:\n",
      "\u001b[1;31mHttpResponseError\u001b[0m                         Traceback (most recent call last)",
      "Cell \u001b[1;32mIn[6], line 1\u001b[0m\n\u001b[1;32m----> 1\u001b[0m \u001b[43mml_client\u001b[49m\u001b[38;5;241;43m.\u001b[39;49m\u001b[43mbegin_create_or_update\u001b[49m\u001b[43m(\u001b[49m\u001b[43mblue_deployment\u001b[49m\u001b[43m)\u001b[49m\u001b[38;5;241;43m.\u001b[39;49m\u001b[43mresult\u001b[49m\u001b[43m(\u001b[49m\u001b[43m)\u001b[49m\n",
      "File \u001b[1;32mc:\\Users\\Dudo\\anaconda3\\envs\\blockd-env\\Lib\\site-packages\\azure\\core\\polling\\_poller.py:251\u001b[0m, in \u001b[0;36mLROPoller.result\u001b[1;34m(self, timeout)\u001b[0m\n\u001b[0;32m    242\u001b[0m \u001b[38;5;28;01mdef\u001b[39;00m \u001b[38;5;21mresult\u001b[39m(\u001b[38;5;28mself\u001b[39m, timeout: Optional[\u001b[38;5;28mfloat\u001b[39m] \u001b[38;5;241m=\u001b[39m \u001b[38;5;28;01mNone\u001b[39;00m) \u001b[38;5;241m-\u001b[39m\u001b[38;5;241m>\u001b[39m PollingReturnType_co:\n\u001b[0;32m    243\u001b[0m \u001b[38;5;250m    \u001b[39m\u001b[38;5;124;03m\"\"\"Return the result of the long running operation, or\u001b[39;00m\n\u001b[0;32m    244\u001b[0m \u001b[38;5;124;03m    the result available after the specified timeout.\u001b[39;00m\n\u001b[0;32m    245\u001b[0m \n\u001b[1;32m   (...)\u001b[0m\n\u001b[0;32m    249\u001b[0m \u001b[38;5;124;03m    :raises ~azure.core.exceptions.HttpResponseError: Server problem with the query.\u001b[39;00m\n\u001b[0;32m    250\u001b[0m \u001b[38;5;124;03m    \"\"\"\u001b[39;00m\n\u001b[1;32m--> 251\u001b[0m     \u001b[38;5;28;43mself\u001b[39;49m\u001b[38;5;241;43m.\u001b[39;49m\u001b[43mwait\u001b[49m\u001b[43m(\u001b[49m\u001b[43mtimeout\u001b[49m\u001b[43m)\u001b[49m\n\u001b[0;32m    252\u001b[0m     \u001b[38;5;28;01mreturn\u001b[39;00m \u001b[38;5;28mself\u001b[39m\u001b[38;5;241m.\u001b[39m_polling_method\u001b[38;5;241m.\u001b[39mresource()\n",
      "File \u001b[1;32mc:\\Users\\Dudo\\anaconda3\\envs\\blockd-env\\Lib\\site-packages\\azure\\core\\tracing\\decorator.py:78\u001b[0m, in \u001b[0;36mdistributed_trace.<locals>.decorator.<locals>.wrapper_use_tracer\u001b[1;34m(*args, **kwargs)\u001b[0m\n\u001b[0;32m     76\u001b[0m span_impl_type \u001b[38;5;241m=\u001b[39m settings\u001b[38;5;241m.\u001b[39mtracing_implementation()\n\u001b[0;32m     77\u001b[0m \u001b[38;5;28;01mif\u001b[39;00m span_impl_type \u001b[38;5;129;01mis\u001b[39;00m \u001b[38;5;28;01mNone\u001b[39;00m:\n\u001b[1;32m---> 78\u001b[0m     \u001b[38;5;28;01mreturn\u001b[39;00m \u001b[43mfunc\u001b[49m\u001b[43m(\u001b[49m\u001b[38;5;241;43m*\u001b[39;49m\u001b[43margs\u001b[49m\u001b[43m,\u001b[49m\u001b[43m \u001b[49m\u001b[38;5;241;43m*\u001b[39;49m\u001b[38;5;241;43m*\u001b[39;49m\u001b[43mkwargs\u001b[49m\u001b[43m)\u001b[49m\n\u001b[0;32m     80\u001b[0m \u001b[38;5;66;03m# Merge span is parameter is set, but only if no explicit parent are passed\u001b[39;00m\n\u001b[0;32m     81\u001b[0m \u001b[38;5;28;01mif\u001b[39;00m merge_span \u001b[38;5;129;01mand\u001b[39;00m \u001b[38;5;129;01mnot\u001b[39;00m passed_in_parent:\n",
      "File \u001b[1;32mc:\\Users\\Dudo\\anaconda3\\envs\\blockd-env\\Lib\\site-packages\\azure\\core\\polling\\_poller.py:270\u001b[0m, in \u001b[0;36mLROPoller.wait\u001b[1;34m(self, timeout)\u001b[0m\n\u001b[0;32m    266\u001b[0m \u001b[38;5;28mself\u001b[39m\u001b[38;5;241m.\u001b[39m_thread\u001b[38;5;241m.\u001b[39mjoin(timeout\u001b[38;5;241m=\u001b[39mtimeout)\n\u001b[0;32m    267\u001b[0m \u001b[38;5;28;01mtry\u001b[39;00m:\n\u001b[0;32m    268\u001b[0m     \u001b[38;5;66;03m# Let's handle possible None in forgiveness here\u001b[39;00m\n\u001b[0;32m    269\u001b[0m     \u001b[38;5;66;03m# https://github.com/python/mypy/issues/8165\u001b[39;00m\n\u001b[1;32m--> 270\u001b[0m     \u001b[38;5;28;01mraise\u001b[39;00m \u001b[38;5;28mself\u001b[39m\u001b[38;5;241m.\u001b[39m_exception  \u001b[38;5;66;03m# type: ignore\u001b[39;00m\n\u001b[0;32m    271\u001b[0m \u001b[38;5;28;01mexcept\u001b[39;00m \u001b[38;5;167;01mTypeError\u001b[39;00m:  \u001b[38;5;66;03m# Was None\u001b[39;00m\n\u001b[0;32m    272\u001b[0m     \u001b[38;5;28;01mpass\u001b[39;00m\n",
      "File \u001b[1;32mc:\\Users\\Dudo\\anaconda3\\envs\\blockd-env\\Lib\\site-packages\\azure\\core\\polling\\_poller.py:185\u001b[0m, in \u001b[0;36mLROPoller._start\u001b[1;34m(self)\u001b[0m\n\u001b[0;32m    181\u001b[0m \u001b[38;5;250m\u001b[39m\u001b[38;5;124;03m\"\"\"Start the long running operation.\u001b[39;00m\n\u001b[0;32m    182\u001b[0m \u001b[38;5;124;03mOn completion, runs any callbacks.\u001b[39;00m\n\u001b[0;32m    183\u001b[0m \u001b[38;5;124;03m\"\"\"\u001b[39;00m\n\u001b[0;32m    184\u001b[0m \u001b[38;5;28;01mtry\u001b[39;00m:\n\u001b[1;32m--> 185\u001b[0m     \u001b[38;5;28;43mself\u001b[39;49m\u001b[38;5;241;43m.\u001b[39;49m\u001b[43m_polling_method\u001b[49m\u001b[38;5;241;43m.\u001b[39;49m\u001b[43mrun\u001b[49m\u001b[43m(\u001b[49m\u001b[43m)\u001b[49m\n\u001b[0;32m    186\u001b[0m \u001b[38;5;28;01mexcept\u001b[39;00m AzureError \u001b[38;5;28;01mas\u001b[39;00m error:\n\u001b[0;32m    187\u001b[0m     \u001b[38;5;28;01mif\u001b[39;00m \u001b[38;5;129;01mnot\u001b[39;00m error\u001b[38;5;241m.\u001b[39mcontinuation_token:\n",
      "File \u001b[1;32mc:\\Users\\Dudo\\anaconda3\\envs\\blockd-env\\Lib\\site-packages\\azure\\core\\polling\\base_polling.py:772\u001b[0m, in \u001b[0;36mLROBasePolling.run\u001b[1;34m(self)\u001b[0m\n\u001b[0;32m    765\u001b[0m     \u001b[38;5;28;01mraise\u001b[39;00m HttpResponseError(\n\u001b[0;32m    766\u001b[0m         response\u001b[38;5;241m=\u001b[39m\u001b[38;5;28mself\u001b[39m\u001b[38;5;241m.\u001b[39m_pipeline_response\u001b[38;5;241m.\u001b[39mhttp_response,\n\u001b[0;32m    767\u001b[0m         message\u001b[38;5;241m=\u001b[39m\u001b[38;5;28mstr\u001b[39m(err),\n\u001b[0;32m    768\u001b[0m         error\u001b[38;5;241m=\u001b[39merr,\n\u001b[0;32m    769\u001b[0m     ) \u001b[38;5;28;01mfrom\u001b[39;00m \u001b[38;5;21;01merr\u001b[39;00m\n\u001b[0;32m    771\u001b[0m \u001b[38;5;28;01mexcept\u001b[39;00m OperationFailed \u001b[38;5;28;01mas\u001b[39;00m err:\n\u001b[1;32m--> 772\u001b[0m     \u001b[38;5;28;01mraise\u001b[39;00m HttpResponseError(response\u001b[38;5;241m=\u001b[39m\u001b[38;5;28mself\u001b[39m\u001b[38;5;241m.\u001b[39m_pipeline_response\u001b[38;5;241m.\u001b[39mhttp_response, error\u001b[38;5;241m=\u001b[39merr) \u001b[38;5;28;01mfrom\u001b[39;00m \u001b[38;5;21;01merr\u001b[39;00m\n",
      "\u001b[1;31mHttpResponseError\u001b[0m: (None) KubernetesOperationError: Operation failed in Kubernetes cluster. Reason:UserScriptImportError Details:Errors Occurred in User Script when importing modules, please check the deployment logs for more details. Please see troubleshooting guide, available here: https://aka.ms/amlarc-tsg\nCode: None\nMessage: KubernetesOperationError: Operation failed in Kubernetes cluster. Reason:UserScriptImportError Details:Errors Occurred in User Script when importing modules, please check the deployment logs for more details. Please see troubleshooting guide, available here: https://aka.ms/amlarc-tsg\nException Details:\t(None) KubernetesOperationError: Operation failed in Kubernetes cluster. Reason:UserScriptImportError Details:Errors Occurred in User Script when importing modules, please check the deployment logs for more details. Please see troubleshooting guide, available here: https://aka.ms/amlarc-tsg\n\tCode: None\n\tMessage: KubernetesOperationError: Operation failed in Kubernetes cluster. Reason:UserScriptImportError Details:Errors Occurred in User Script when importing modules, please check the deployment logs for more details. Please see troubleshooting guide, available here: https://aka.ms/amlarc-tsg"
     ]
    }
   ],
   "source": [
    "ml_client.begin_create_or_update(blue_deployment).result()"
   ]
  },
  {
   "cell_type": "markdown",
   "metadata": {},
   "source": []
  },
  {
   "cell_type": "code",
   "execution_count": null,
   "metadata": {},
   "outputs": [],
   "source": []
  },
  {
   "cell_type": "code",
   "execution_count": 50,
   "metadata": {},
   "outputs": [
    {
     "name": "stdout",
     "output_type": "stream",
     "text": [
      "The request failed with status code: 502\n",
      "Server: nginx/1.18.0 (Ubuntu)\n",
      "Date: Mon, 24 Jun 2024 10:56:56 GMT\n",
      "Content-Type: application/json\n",
      "Content-Length: 92\n",
      "Connection: close\n",
      "x-ms-run-function-failed: True\n",
      "x-ms-server-version: azmlinfsrv/1.2.2\n",
      "x-request-id: d5040552-95fe-41a4-b019-0fdeb6bd8cc3\n",
      "x-ms-request-id: d5040552-95fe-41a4-b019-0fdeb6bd8cc3\n",
      "assigned-version: blue-deployment-test-test-endpoint-06241218613927\n",
      "assignment-method: HTTPHeader\n",
      "versions-list: [{\"name\":\"blue-deployment-test-test-endpoint-06241218613927\",\"trafficPercentile\":0}]\n",
      "\n",
      "\n",
      "{\"message\": \"An unexpected error occurred in scoring script. Check the logs for more info.\"}\n"
     ]
    }
   ],
   "source": [
    "import urllib.request\n",
    "import requests\n",
    "import json\n",
    "import os\n",
    "import ssl\n",
    "import pandas as pd\n",
    "# CHANGE URL PORT TO 3092!!!!\n",
    "\n",
    "\n",
    "def allowSelfSignedHttps(allowed):\n",
    "    # bypass the server certificate verification on client side\n",
    "    if allowed and not os.environ.get('PYTHONHTTPSVERIFY', '') and getattr(ssl, '_create_unverified_context', None):\n",
    "        ssl._create_default_https_context = ssl._create_unverified_context\n",
    "\n",
    "allowSelfSignedHttps(True) # this line is needed if you use self-signed certificate in your scoring service.\n",
    "\n",
    "# Request data goes here\n",
    "# The example below assumes JSON formatting which may be updated\n",
    "# depending on the format your endpoint expects.\n",
    "# More information can be found here:\n",
    "# https://docs.microsoft.com/azure/machine-learning/how-to-deploy-advanced-entry-script\n",
    "\n",
    "# Load the dataset\n",
    "file_path = \"D:/BUAS/Year 2/Block 2D/Block-D-Personal/Programming/Azure/Endpoint_BUAS/preprocess_output.csv\"\n",
    "dataframe = pd.read_csv(file_path)\n",
    "\n",
    "# Convert the dataframe to a dictionary and then to a JSON string\n",
    "data = dataframe.to_dict(orient='records')\n",
    "\n",
    "body = str.encode(json.dumps(data))\n",
    "\n",
    "url = \"http://194.171.191.227:3092/api/v1/endpoint/test-endpoint-06241218613927/score\"\n",
    "# Replace this with the primary/secondary key, AMLToken, or Microsoft Entra ID token for the endpoint\n",
    "api_key = 'zZQu0wUo284aViykl8acDOg3QmuYapg2'\n",
    "if not api_key:\n",
    "    raise Exception(\"A key should be provided to invoke the endpoint\")\n",
    "\n",
    "# The azureml-model-deployment header will force the request to go to a specific deployment.\n",
    "# Remove this header to have the request observe the endpoint traffic rules\n",
    "headers = {'Content-Type':'application/json', 'Authorization':('Bearer '+ api_key), 'azureml-model-deployment': 'blue-deployment-test' }\n",
    "\n",
    "req = urllib.request.Request(url, body, headers)\n",
    "\n",
    "try:\n",
    "    response = urllib.request.urlopen(req)\n",
    "\n",
    "    result = response.read()\n",
    "    print(result)\n",
    "except urllib.error.HTTPError as error:\n",
    "    print(\"The request failed with status code: \" + str(error.code))\n",
    "\n",
    "    # Print the headers - they include the requert ID and the timestamp, which are useful for debugging the failure\n",
    "    print(error.info())\n",
    "    print(error.read().decode(\"utf8\", 'ignore'))"
   ]
  },
  {
   "cell_type": "code",
   "execution_count": null,
   "metadata": {},
   "outputs": [],
   "source": []
  }
 ],
 "metadata": {
  "kernelspec": {
   "display_name": "Python 3",
   "language": "python",
   "name": "python3"
  },
  "language_info": {
   "codemirror_mode": {
    "name": "ipython",
    "version": 3
   },
   "file_extension": ".py",
   "mimetype": "text/x-python",
   "name": "python",
   "nbconvert_exporter": "python",
   "pygments_lexer": "ipython3",
   "version": "3.11.9"
  }
 },
 "nbformat": 4,
 "nbformat_minor": 2
}
