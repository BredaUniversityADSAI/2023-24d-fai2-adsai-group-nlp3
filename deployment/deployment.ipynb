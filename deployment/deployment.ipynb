{
 "cells": [
  {
   "cell_type": "code",
   "execution_count": 9,
   "metadata": {},
   "outputs": [],
   "source": [
    "from azure.ai.ml import Input, MLClient, Output, command\n",
    "from azure.identity import ClientSecretCredential\n",
    "\n",
    "# const values for Azure connection\n",
    "SUBSCRIPTION_ID = \"0a94de80-6d3b-49f2-b3e9-ec5818862801\"\n",
    "RESOURCE_GROUP = \"buas-y2\"\n",
    "WORKSPACE_NAME = \"NLP3\"\n",
    "TENANT_ID = \"0a33589b-0036-4fe8-a829-3ed0926af886\"\n",
    "CLIENT_ID = \"a2230f31-0fda-428d-8c5c-ec79e91a49f5\"\n",
    "CLIENT_SECRET = \"Y-q8Q~H63btsUkR7dnmHrUGw2W0gMWjs0MxLKa1C\"\n",
    "\n",
    "\n",
    "credential = ClientSecretCredential(TENANT_ID, CLIENT_ID, CLIENT_SECRET)\n",
    "\n",
    "ml_client = MLClient(\n",
    "    subscription_id=SUBSCRIPTION_ID,\n",
    "    resource_group_name=RESOURCE_GROUP,\n",
    "    workspace_name=WORKSPACE_NAME,\n",
    "    credential=credential,\n",
    ")\n",
    "\n",
    "\n",
    "compute = \"adsai0\""
   ]
  },
  {
   "cell_type": "code",
   "execution_count": 10,
   "metadata": {},
   "outputs": [],
   "source": [
    "from azure.ai.ml.entities import KubernetesOnlineEndpoint, KubernetesCompute, KubernetesOnlineDeployment\n",
    "import datetime\n",
    "\n",
    "endpoint_name = \"green-endpoint06251104198954\"\n",
    "\n",
    "# create an online endpoint with a kubernetes\n",
    "\n",
    "endpoint = KubernetesOnlineEndpoint(name=endpoint_name, description=\"test-endpoint\", compute=compute, auth_mode=\"key\", tags={\"Type\": \"First test endpoint\"})\n"
   ]
  },
  {
   "cell_type": "code",
   "execution_count": 10,
   "metadata": {},
   "outputs": [
    {
     "name": "stdout",
     "output_type": "stream",
     "text": [
      "Creating endpoint blue-green9-8\n"
     ]
    }
   ],
   "source": [
    "print(f\"Creating endpoint {endpoint_name}\")"
   ]
  },
  {
   "cell_type": "code",
   "execution_count": 47,
   "metadata": {},
   "outputs": [
    {
     "name": "stdout",
     "output_type": "stream",
     "text": [
      "Requirement already satisfied: docker in c:\\users\\dudo\\anaconda3\\envs\\blockd-env\\lib\\site-packages (7.1.0)\n",
      "Requirement already satisfied: pywin32>=304 in c:\\users\\dudo\\anaconda3\\envs\\blockd-env\\lib\\site-packages (from docker) (305.1)\n",
      "Requirement already satisfied: requests>=2.26.0 in c:\\users\\dudo\\anaconda3\\envs\\blockd-env\\lib\\site-packages (from docker) (2.32.2)\n",
      "Requirement already satisfied: urllib3>=1.26.0 in c:\\users\\dudo\\anaconda3\\envs\\blockd-env\\lib\\site-packages (from docker) (2.2.1)\n",
      "Requirement already satisfied: charset-normalizer<4,>=2 in c:\\users\\dudo\\anaconda3\\envs\\blockd-env\\lib\\site-packages (from requests>=2.26.0->docker) (2.0.4)\n",
      "Requirement already satisfied: idna<4,>=2.5 in c:\\users\\dudo\\anaconda3\\envs\\blockd-env\\lib\\site-packages (from requests>=2.26.0->docker) (3.7)\n",
      "Requirement already satisfied: certifi>=2017.4.17 in c:\\users\\dudo\\anaconda3\\envs\\blockd-env\\lib\\site-packages (from requests>=2.26.0->docker) (2024.2.2)\n"
     ]
    }
   ],
   "source": [
    "import sys\n",
    "import os\n",
    "# Install the Docker\n",
    "!{sys.executable} -m pip install docker\n"
   ]
  },
  {
   "cell_type": "code",
   "execution_count": 11,
   "metadata": {},
   "outputs": [
    {
     "data": {
      "text/plain": [
       "KubernetesOnlineEndpoint({'provisioning_state': 'Succeeded', 'scoring_uri': 'http://194.171.191.226:32455/api/v1/endpoint/blue-green9-8/score', 'openapi_uri': 'http://194.171.191.226:32455/api/v1/endpoint/blue-green9-8/swagger.json', 'name': 'blue-green9-8', 'description': 'test-endpoint', 'tags': {'Type': 'First test endpoint'}, 'properties': {'createdBy': 'a2230f31-0fda-428d-8c5c-ec79e91a49f5', 'createdAt': '2024-06-27T12:21:45.934780+0000', 'lastModifiedAt': '2024-06-27T12:21:45.934780+0000', 'azureml.onlineendpointid': '/subscriptions/0a94de80-6d3b-49f2-b3e9-ec5818862801/resourcegroups/buas-y2/providers/microsoft.machinelearningservices/workspaces/nlp3/onlineendpoints/blue-green9-8', 'AzureAsyncOperationUri': 'https://management.azure.com/subscriptions/0a94de80-6d3b-49f2-b3e9-ec5818862801/providers/Microsoft.MachineLearningServices/locations/westeurope/mfeOperationsStatus/oeidp:12fa2fcc-0a79-4635-bc8c-8148b17bfac6:70e2561c-633f-4e73-ba09-437f2da2e386?api-version=2022-02-01-preview'}, 'print_as_yaml': False, 'id': '/subscriptions/0a94de80-6d3b-49f2-b3e9-ec5818862801/resourceGroups/buas-y2/providers/Microsoft.MachineLearningServices/workspaces/NLP3/onlineEndpoints/blue-green9-8', 'Resource__source_path': '', 'base_path': 'd:\\\\BUAS\\\\Year 2\\\\Block 2D\\\\Block D\\\\deployment', 'creation_context': None, 'serialize': <msrest.serialization.Serializer object at 0x0000023E77A78C50>, 'auth_mode': 'key', 'location': 'westeurope', 'identity': <azure.ai.ml.entities._credentials.IdentityConfiguration object at 0x0000023E77A4BF90>, 'traffic': {}, 'mirror_traffic': {}, 'kind': 'K8S', 'compute': '/subscriptions/0a94de80-6d3b-49f2-b3e9-ec5818862801/resourceGroups/buas-y2/providers/Microsoft.MachineLearningServices/workspaces/NLP3/computes/adsai0'})"
      ]
     },
     "execution_count": 11,
     "metadata": {},
     "output_type": "execute_result"
    }
   ],
   "source": [
    "#Create an endpoint\n",
    "ml_client.online_endpoints.begin_create_or_update(endpoint).result()\n"
   ]
  },
  {
   "cell_type": "code",
   "execution_count": 13,
   "metadata": {},
   "outputs": [
    {
     "name": "stdout",
     "output_type": "stream",
     "text": [
      "d:\\BUAS\\Year 2\\Block 2D\\Block D\\deployment\n",
      "['deployment.ipynb', 'model_predict.py', 'model_predict_deployment.py', 'preprocessing.py', 'preprocessing_deployment.py', 'scoring.py']\n"
     ]
    }
   ],
   "source": [
    "from azure.ai.ml.entities import Environment, CodeConfiguration, ResourceRequirementsSettings, ResourceSettings\n",
    "import os\n",
    "\n",
    "registered_model_name = \"RoBERTa_model\"\n",
    "latest_model_version = \"2\"\n",
    "registered_environment_name = \"BlockD\"\n",
    "latest_environment_version = \"9\"\n",
    "\n",
    "model = ml_client.models.get(name=registered_model_name, version=latest_model_version)\n",
    "env = ml_client.environments.get(name=registered_environment_name, version=latest_environment_version)\n",
    "\n",
    "\n",
    "print(os.getcwd())\n",
    "print(os.listdir())\n",
    "\n",
    "blue_deployment = KubernetesOnlineDeployment(\n",
    "    name=\"blue-deployment1\",\n",
    "    endpoint_name=endpoint_name,\n",
    "    model = model,\n",
    "    environment = env,\n",
    "    code_configuration=CodeConfiguration(code=\".\",scoring_script=\"scoring.py\"),\n",
    "    instance_count = 1,\n",
    "    resources=ResourceRequirementsSettings(\n",
    "        requests=ResourceSettings(\n",
    "            cpu=\"6000m\",\n",
    "            memory=\"20Gi\"\n",
    "        ),\n",
    "    ),\n",
    ")\n",
    "\n",
    "green_deployment = KubernetesOnlineDeployment(\n",
    "    name=\"green-deployment3\",\n",
    "    endpoint_name=endpoint_name,\n",
    "    model = model,\n",
    "    environment = env,\n",
    "    code_configuration=CodeConfiguration(code=\".\", scoring_script=\"scoring.py\"),\n",
    "    instance_count = 1,\n",
    "    resources=ResourceRequirementsSettings(\n",
    "        requests=ResourceSettings(\n",
    "            cpu=\"6000m\",\n",
    "            memory=\"20Gi\"\n",
    "        ),\n",
    "    ),\n",
    ")\n",
    "\n"
   ]
  },
  {
   "cell_type": "code",
   "execution_count": 14,
   "metadata": {},
   "outputs": [
    {
     "name": "stderr",
     "output_type": "stream",
     "text": [
      "Check: endpoint green-endpoint06251104198954 exists\n",
      "\u001b[32mUploading deployment (0.05 MBs): 100%|##########| 50326/50326 [00:00<00:00, 677612.98it/s]\n",
      "\u001b[39m\n",
      "\n"
     ]
    },
    {
     "name": "stdout",
     "output_type": "stream",
     "text": [
      "......................................."
     ]
    },
    {
     "data": {
      "text/plain": [
       "KubernetesOnlineDeployment({'provisioning_state': 'Succeeded', 'endpoint_name': 'green-endpoint06251104198954', 'type': 'Kubernetes', 'name': 'blue-deployment1', 'description': None, 'tags': {}, 'properties': {'AzureAsyncOperationUri': 'https://management.azure.com/subscriptions/0a94de80-6d3b-49f2-b3e9-ec5818862801/providers/Microsoft.MachineLearningServices/locations/westeurope/mfeOperationsStatus/odidp:12fa2fcc-0a79-4635-bc8c-8148b17bfac6:7bf358cf-0094-49e0-b8aa-34e364a94c51?api-version=2023-04-01-preview'}, 'print_as_yaml': False, 'id': '/subscriptions/0a94de80-6d3b-49f2-b3e9-ec5818862801/resourceGroups/buas-y2/providers/Microsoft.MachineLearningServices/workspaces/NLP3/onlineEndpoints/green-endpoint06251104198954/deployments/blue-deployment1', 'Resource__source_path': '', 'base_path': 'd:\\\\BUAS\\\\Year 2\\\\Block 2D\\\\Block D\\\\deployment', 'creation_context': None, 'serialize': <msrest.serialization.Serializer object at 0x000001B8A6EFE9D0>, 'model': '/subscriptions/0a94de80-6d3b-49f2-b3e9-ec5818862801/resourceGroups/buas-y2/providers/Microsoft.MachineLearningServices/workspaces/NLP3/models/RoBERTa_model/versions/2', 'code_configuration': {'code': '/subscriptions/0a94de80-6d3b-49f2-b3e9-ec5818862801/resourceGroups/buas-y2/providers/Microsoft.MachineLearningServices/workspaces/NLP3/codes/629e04b0-5608-4b2d-b262-7b1a1caa4d57/versions/1'}, 'environment': '/subscriptions/0a94de80-6d3b-49f2-b3e9-ec5818862801/resourceGroups/buas-y2/providers/Microsoft.MachineLearningServices/workspaces/NLP3/environments/BlockD/versions/9', 'environment_variables': {'EXAMPLE_ENV_VAR': 'EXAMPLE_VALUE', 'AZUREML_MODEL_DIR': '/var/azureml-app/azureml-models/RoBERTa_model/2', 'SERVICE_PATH_PREFIX': 'api/v1/endpoint/green-endpoint06251104198954', 'SERVICE_NAME': 'green-endpoint06251104198954', 'AZUREML_ENTRY_SCRIPT': 'scoring.py', 'AML_APP_ROOT': '/var/azureml-app/deployment'}, 'app_insights_enabled': False, 'scale_settings': <azure.ai.ml.entities._deployment.scale_settings.TargetUtilizationScaleSettings object at 0x000001B8A7242DD0>, 'request_settings': <azure.ai.ml.entities._deployment.deployment_settings.OnlineRequestSettings object at 0x000001B8A6E749D0>, 'liveness_probe': <azure.ai.ml.entities._deployment.deployment_settings.ProbeSettings object at 0x000001B8A71B4110>, 'readiness_probe': <azure.ai.ml.entities._deployment.deployment_settings.ProbeSettings object at 0x000001B8A703E490>, 'instance_count': None, 'arm_type': 'online_deployment', 'model_mount_path': None, 'instance_type': None, 'data_collector': None, 'resources': <azure.ai.ml.entities._deployment.resource_requirements_settings.ResourceRequirementsSettings object at 0x000001B8A71B3390>})"
      ]
     },
     "execution_count": 14,
     "metadata": {},
     "output_type": "execute_result"
    }
   ],
   "source": [
    "ml_client.begin_create_or_update(blue_deployment).result()"
   ]
  },
  {
   "cell_type": "code",
   "execution_count": 14,
   "metadata": {},
   "outputs": [
    {
     "name": "stderr",
     "output_type": "stream",
     "text": [
      "Check: endpoint blue-green9-8 exists\n",
      "\u001b[32mUploading deployment (0.06 MBs): 100%|##########| 60699/60699 [00:00<00:00, 592304.07it/s]\n",
      "\u001b[39m\n",
      "\n"
     ]
    },
    {
     "name": "stdout",
     "output_type": "stream",
     "text": [
      "..................................................."
     ]
    },
    {
     "data": {
      "text/plain": [
       "KubernetesOnlineDeployment({'provisioning_state': 'Succeeded', 'endpoint_name': 'blue-green9-8', 'type': 'Kubernetes', 'name': 'green-deployment3', 'description': None, 'tags': {}, 'properties': {'AzureAsyncOperationUri': 'https://management.azure.com/subscriptions/0a94de80-6d3b-49f2-b3e9-ec5818862801/providers/Microsoft.MachineLearningServices/locations/westeurope/mfeOperationsStatus/odidp:12fa2fcc-0a79-4635-bc8c-8148b17bfac6:9b01ce01-2041-4926-96b1-dc1f5370b3e2?api-version=2023-04-01-preview'}, 'print_as_yaml': False, 'id': '/subscriptions/0a94de80-6d3b-49f2-b3e9-ec5818862801/resourceGroups/buas-y2/providers/Microsoft.MachineLearningServices/workspaces/NLP3/onlineEndpoints/blue-green9-8/deployments/green-deployment3', 'Resource__source_path': '', 'base_path': 'd:\\\\BUAS\\\\Year 2\\\\Block 2D\\\\Block D\\\\deployment', 'creation_context': None, 'serialize': <msrest.serialization.Serializer object at 0x0000023E77AB0AD0>, 'model': '/subscriptions/0a94de80-6d3b-49f2-b3e9-ec5818862801/resourceGroups/buas-y2/providers/Microsoft.MachineLearningServices/workspaces/NLP3/models/RoBERTa_model/versions/2', 'code_configuration': {'code': '/subscriptions/0a94de80-6d3b-49f2-b3e9-ec5818862801/resourceGroups/buas-y2/providers/Microsoft.MachineLearningServices/workspaces/NLP3/codes/f4fcd8ba-5f72-461d-8940-f96993d41945/versions/1'}, 'environment': '/subscriptions/0a94de80-6d3b-49f2-b3e9-ec5818862801/resourceGroups/buas-y2/providers/Microsoft.MachineLearningServices/workspaces/NLP3/environments/BlockD/versions/9', 'environment_variables': {'EXAMPLE_ENV_VAR': 'EXAMPLE_VALUE', 'AZUREML_MODEL_DIR': '/var/azureml-app/azureml-models/RoBERTa_model/2', 'SERVICE_PATH_PREFIX': 'api/v1/endpoint/blue-green9-8', 'SERVICE_NAME': 'blue-green9-8', 'AZUREML_ENTRY_SCRIPT': 'scoring.py', 'AML_APP_ROOT': '/var/azureml-app/deployment'}, 'app_insights_enabled': False, 'scale_settings': <azure.ai.ml.entities._deployment.scale_settings.TargetUtilizationScaleSettings object at 0x0000023E4CC79590>, 'request_settings': <azure.ai.ml.entities._deployment.deployment_settings.OnlineRequestSettings object at 0x0000023E77B34DD0>, 'liveness_probe': <azure.ai.ml.entities._deployment.deployment_settings.ProbeSettings object at 0x0000023E77AB3F50>, 'readiness_probe': <azure.ai.ml.entities._deployment.deployment_settings.ProbeSettings object at 0x0000023E77AB1E10>, 'instance_count': None, 'arm_type': 'online_deployment', 'model_mount_path': None, 'instance_type': None, 'data_collector': None, 'resources': <azure.ai.ml.entities._deployment.resource_requirements_settings.ResourceRequirementsSettings object at 0x0000023E77AB1610>})"
      ]
     },
     "execution_count": 14,
     "metadata": {},
     "output_type": "execute_result"
    }
   ],
   "source": [
    "ml_client.begin_create_or_update(green_deployment).result()"
   ]
  },
  {
   "cell_type": "code",
   "execution_count": 15,
   "metadata": {},
   "outputs": [
    {
     "name": "stdout",
     "output_type": "stream",
     "text": [
      "Updating endpoint traffic allocation\n"
     ]
    },
    {
     "data": {
      "text/plain": [
       "KubernetesOnlineEndpoint({'provisioning_state': 'Succeeded', 'scoring_uri': 'http://194.171.191.226:32455/api/v1/endpoint/blue-green9-8/score', 'openapi_uri': 'http://194.171.191.226:32455/api/v1/endpoint/blue-green9-8/swagger.json', 'name': 'blue-green9-8', 'description': 'test-endpoint', 'tags': {'Type': 'First test endpoint'}, 'properties': {'createdBy': 'a2230f31-0fda-428d-8c5c-ec79e91a49f5', 'createdAt': '2024-06-27T12:21:45.934780+0000', 'lastModifiedAt': '2024-06-27T12:21:45.934780+0000', 'azureml.onlineendpointid': '/subscriptions/0a94de80-6d3b-49f2-b3e9-ec5818862801/resourcegroups/buas-y2/providers/microsoft.machinelearningservices/workspaces/nlp3/onlineendpoints/blue-green9-8', 'AzureAsyncOperationUri': 'https://management.azure.com/subscriptions/0a94de80-6d3b-49f2-b3e9-ec5818862801/providers/Microsoft.MachineLearningServices/locations/westeurope/mfeOperationsStatus/oeidp:12fa2fcc-0a79-4635-bc8c-8148b17bfac6:4ccd1daa-d5f6-4552-a262-8f72de2e9b68?api-version=2022-02-01-preview'}, 'print_as_yaml': False, 'id': '/subscriptions/0a94de80-6d3b-49f2-b3e9-ec5818862801/resourceGroups/buas-y2/providers/Microsoft.MachineLearningServices/workspaces/NLP3/onlineEndpoints/blue-green9-8', 'Resource__source_path': '', 'base_path': 'd:\\\\BUAS\\\\Year 2\\\\Block 2D\\\\Block D\\\\deployment', 'creation_context': None, 'serialize': <msrest.serialization.Serializer object at 0x0000023E77B36910>, 'auth_mode': 'key', 'location': 'westeurope', 'identity': <azure.ai.ml.entities._credentials.IdentityConfiguration object at 0x0000023E77A79450>, 'traffic': {'blue-deployment': 80, 'green-deployment3': 20}, 'mirror_traffic': {}, 'kind': 'K8S', 'compute': '/subscriptions/0a94de80-6d3b-49f2-b3e9-ec5818862801/resourceGroups/buas-y2/providers/Microsoft.MachineLearningServices/workspaces/NLP3/computes/adsai0'})"
      ]
     },
     "execution_count": 15,
     "metadata": {},
     "output_type": "execute_result"
    }
   ],
   "source": [
    "# Allocate traffic\n",
    "traffic_config = {\n",
    "    \"blue-deployment\": 80,\n",
    "    \"green-deployment3\": 20\n",
    "}\n",
    "\n",
    "# Update the endpoint with the traffic configuration\n",
    "endpoint.traffic = traffic_config\n",
    "print(\"Updating endpoint traffic allocation\")\n",
    "ml_client.online_endpoints.begin_create_or_update(endpoint).result()"
   ]
  },
  {
   "cell_type": "code",
   "execution_count": 16,
   "metadata": {},
   "outputs": [
    {
     "name": "stdout",
     "output_type": "stream",
     "text": [
      "b'\"[\\\\\"Anger\\\\\", \\\\\"Anger\\\\\", \\\\\"Happiness\\\\\", \\\\\"Anger\\\\\", \\\\\"Happiness\\\\\", \\\\\"Fear\\\\\", \\\\\"Anger\\\\\", \\\\\"Happiness\\\\\", \\\\\"Happiness\\\\\", \\\\\"Happiness\\\\\"]\"'\n"
     ]
    }
   ],
   "source": [
    "import urllib.request\n",
    "import requests\n",
    "import json\n",
    "import os\n",
    "import ssl\n",
    "import pandas as pd\n",
    "# CHANGE URL PORT TO 3092!!!!\n",
    "\n",
    "\n",
    "def allowSelfSignedHttps(allowed):\n",
    "    # bypass the server certificate verification on client side\n",
    "    if allowed and not os.environ.get('PYTHONHTTPSVERIFY', '') and getattr(ssl, '_create_unverified_context', None):\n",
    "        ssl._create_default_https_context = ssl._create_unverified_context\n",
    "\n",
    "allowSelfSignedHttps(True) # this line is needed if you use self-signed certificate in your scoring service.\n",
    "\n",
    "# Request data goes here\n",
    "# The example below assumes JSON formatting which may be updated\n",
    "# depending on the format your endpoint expects.\n",
    "# More information can be found here:\n",
    "# https://docs.microsoft.com/azure/machine-learning/how-to-deploy-advanced-entry-script\n",
    "\n",
    "# Load the dataset\n",
    "file_path = \"D:/BUAS/Year 2/Block 2D/Block-D-Personal/Programming/Azure/Endpoint_BUAS/endpoint_test.csv\"\n",
    "dataframe = pd.read_csv(file_path)\n",
    "\n",
    "# Convert the dataframe to a dictionary and then to a JSON string\n",
    "data = dataframe.to_dict(orient='records')\n",
    "\n",
    "\n",
    "body = str.encode(json.dumps(data))\n",
    "\n",
    "url = \"http://194.171.191.227:3092/api/v1/endpoint/green-endpoint06251104198954/score\"\n",
    "\n",
    "# Replace this with the primary/secondary key, AMLToken, or Microsoft Entra ID token for the endpoint\n",
    "api_key = '7RH5DAXdmyRndPY00Ct13LMeuXq33QIX'\n",
    "if not api_key:\n",
    "    raise Exception(\"A key should be provided to invoke the endpoint\")\n",
    "\n",
    "# The azureml-model-deployment header will force the request to go to a specific deployment.\n",
    "# Remove this header to have the request observe the endpoint traffic rules\n",
    "headers = {'Content-Type':'application/json', 'Authorization':('Bearer '+ api_key)}\n",
    "\n",
    "req = urllib.request.Request(url, body, headers)\n",
    "\n",
    "try:\n",
    "    response = urllib.request.urlopen(req)\n",
    "\n",
    "    result = response.read()\n",
    "    print(result)\n",
    "except urllib.error.HTTPError as error:\n",
    "    print(\"The request failed with status code: \" + str(error.code))\n",
    "\n",
    "    # Print the headers - they include the requert ID and the timestamp, which are useful for debugging the failure\n",
    "    print(error.info())\n",
    "    print(error.read().decode(\"utf8\", 'ignore'))"
   ]
  }
 ],
 "metadata": {
  "kernelspec": {
   "display_name": "Python 3",
   "language": "python",
   "name": "python3"
  },
  "language_info": {
   "codemirror_mode": {
    "name": "ipython",
    "version": 3
   },
   "file_extension": ".py",
   "mimetype": "text/x-python",
   "name": "python",
   "nbconvert_exporter": "python",
   "pygments_lexer": "ipython3",
   "version": "3.11.9"
  }
 },
 "nbformat": 4,
 "nbformat_minor": 2
}
